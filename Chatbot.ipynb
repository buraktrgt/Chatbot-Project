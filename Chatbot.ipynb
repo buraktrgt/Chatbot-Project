{
 "cells": [
  {
   "cell_type": "markdown",
   "id": "86482f71-eff0-467c-bd8b-7f3961851207",
   "metadata": {},
   "source": [
    "**Chatbot project**\n",
    "\n",
    "**This project aims to predict a person's answer as 'yes' or 'no' based on their stories and questions.**"
   ]
  },
  {
   "cell_type": "code",
   "execution_count": 6,
   "id": "5f2c2a38-42fa-43b1-8e6e-30f0c6daa73e",
   "metadata": {},
   "outputs": [],
   "source": [
    "import numpy as np\n",
    "import pickle\n",
    "import os"
   ]
  },
  {
   "cell_type": "code",
   "execution_count": 7,
   "id": "cff8e957-3052-4dda-9a41-3cd680d5d9ab",
   "metadata": {},
   "outputs": [],
   "source": [
    "with open('train_qa.txt','rb') as f:\n",
    "    train_data = pickle.load(f)\n",
    "with open('test_qa.txt','rb') as f:\n",
    "    test_data = pickle.load(f)\n"
   ]
  },
  {
   "cell_type": "code",
   "execution_count": 8,
   "id": "18603386-f51a-4458-82a8-18ace89fc61b",
   "metadata": {},
   "outputs": [],
   "source": [
    "all_data = train_data + test_data"
   ]
  },
  {
   "cell_type": "code",
   "execution_count": 9,
   "id": "35ecbf03-6049-425b-a577-a35b533a2f1e",
   "metadata": {},
   "outputs": [],
   "source": [
    "vocab = set()\n",
    "for story,question,answer in all_data:\n",
    "    vocab = vocab.union(set(story))\n",
    "    vocab = vocab.union(set(question))\n",
    "vocab.add('yes')\n",
    "vocab.add('no')\n",
    "vocab_len = len(vocab) + 1"
   ]
  },
  {
   "cell_type": "code",
   "execution_count": 10,
   "id": "ae275bfd-94e1-4d34-889b-6b8d1b1e561b",
   "metadata": {},
   "outputs": [
    {
     "data": {
      "text/plain": [
       "[12,\n",
       " 26,\n",
       " 39,\n",
       " 52,\n",
       " 64,\n",
       " 12,\n",
       " 24,\n",
       " 36,\n",
       " 49,\n",
       " ...\n",
       " 23,\n",
       " 35,\n",
       " 47,\n",
       " 60,\n",
       " ...]"
      ]
     },
     "execution_count": 10,
     "metadata": {},
     "output_type": "execute_result"
    }
   ],
   "source": [
    "[len(data[0]) for data in all_data]"
   ]
  },
  {
   "cell_type": "code",
   "execution_count": 11,
   "id": "37987d8b-5245-42bb-9874-66572bf70b67",
   "metadata": {},
   "outputs": [],
   "source": [
    "max_story_len = max([len(data[0]) for data in all_data])\n",
    "max_question_len = max([len(data[1]) for data in all_data])"
   ]
  },
  {
   "cell_type": "code",
   "execution_count": 12,
   "id": "e65a45a3-13fd-44e1-b5fa-e2efc359233e",
   "metadata": {},
   "outputs": [],
   "source": [
    "from tensorflow.keras.preprocessing.sequence import pad_sequences\n",
    "from tensorflow.keras.preprocessing.text import Tokenizer"
   ]
  },
  {
   "cell_type": "code",
   "execution_count": 13,
   "id": "60f625a1-1b49-4a87-a540-9c57ecda7cc9",
   "metadata": {},
   "outputs": [],
   "source": [
    "tokenizer = Tokenizer(filters=[])\n",
    "tokenizer.fit_on_texts(vocab)"
   ]
  },
  {
   "cell_type": "code",
   "execution_count": 14,
   "id": "92f1e267-83f8-42e3-99d8-afba21d8511f",
   "metadata": {},
   "outputs": [
    {
     "data": {
      "text/plain": [
       "{'back': 1,\n",
       " 'no': 2,\n",
       " 'picked': 3,\n",
       " 'football': 4,\n",
       " 'garden': 5,\n",
       " 'went': 6,\n",
       " 'dropped': 7,\n",
       " 'discarded': 8,\n",
       " '?': 9,\n",
       " 'travelled': 10,\n",
       " 'milk': 11,\n",
       " 'moved': 12,\n",
       " 'bathroom': 13,\n",
       " 'apple': 14,\n",
       " 'down': 15,\n",
       " 'hallway': 16,\n",
       " 'put': 17,\n",
       " 'the': 18,\n",
       " 'is': 19,\n",
       " 'took': 20,\n",
       " 'to': 21,\n",
       " 'journeyed': 22,\n",
       " 'mary': 23,\n",
       " 'in': 24,\n",
       " 'john': 25,\n",
       " 'bedroom': 26,\n",
       " 'left': 27,\n",
       " 'sandra': 28,\n",
       " '.': 29,\n",
       " 'daniel': 30,\n",
       " 'kitchen': 31,\n",
       " 'yes': 32,\n",
       " 'up': 33,\n",
       " 'grabbed': 34,\n",
       " 'office': 35,\n",
       " 'there': 36,\n",
       " 'got': 37}"
      ]
     },
     "execution_count": 14,
     "metadata": {},
     "output_type": "execute_result"
    }
   ],
   "source": [
    "tokenizer.word_index"
   ]
  },
  {
   "cell_type": "code",
   "execution_count": 28,
   "id": "2c074326-5b3f-467a-b667-3f7b269a9beb",
   "metadata": {},
   "outputs": [],
   "source": [
    "train_story_text = []\n",
    "train_question_text = []\n",
    "train_answers = []"
   ]
  },
  {
   "cell_type": "code",
   "execution_count": 29,
   "id": "23bdfcd3-275f-42a0-8701-219bba4f91b7",
   "metadata": {},
   "outputs": [],
   "source": [
    "for story,question,answer in train_data:\n",
    "    train_story_text.append(story)\n",
    "    train_question_text.append(question)\n",
    "    train_answers.append(answer)"
   ]
  },
  {
   "cell_type": "code",
   "execution_count": 35,
   "id": "b3a44531-56ef-404d-9fad-ea305622cdc4",
   "metadata": {},
   "outputs": [
    {
     "data": {
      "text/plain": [
       "['Mary',\n",
       " 'moved',\n",
       " 'to',\n",
       " 'the',\n",
       " 'bathroom',\n",
       " '.',\n",
       " 'Sandra',\n",
       " 'journeyed',\n",
       " 'to',\n",
       " 'the',\n",
       " 'bedroom',\n",
       " '.']"
      ]
     },
     "execution_count": 35,
     "metadata": {},
     "output_type": "execute_result"
    }
   ],
   "source": [
    "train_story_text[0]"
   ]
  },
  {
   "cell_type": "code",
   "execution_count": 36,
   "id": "e7fbc7f5-aeb5-43d2-b4a2-019906d7d3cb",
   "metadata": {},
   "outputs": [],
   "source": [
    "train_story_seq = tokenizer.texts_to_sequences(train_story_text)"
   ]
  },
  {
   "cell_type": "code",
   "execution_count": 39,
   "id": "d1e73fb8-d583-4a9d-9ce0-a8c3b8c7593a",
   "metadata": {},
   "outputs": [
    {
     "data": {
      "text/plain": [
       "[[23, 12, 21, 18, 13, 29, 28, 22, 21, 18, 26, 29],\n",
       " [23,\n",
       "  12,\n",
       "  21,\n",
       "  18,\n",
       "  13,\n",
       "  29,\n",
       "  28,\n",
       "  22,\n",
       "  21,\n",
       "  18,\n",
       "  26,\n",
       "  29,\n",
       "  23,\n",
       "  6,\n",
       "  1,\n",
       "  21,\n",
       "  18,\n",
       "  26,\n",
       "  29,\n",
       "  30,\n",
       "  6,\n",
       "  1,\n",
       "  21,\n",
       "  18,\n",
       "  16,\n",
       "  29],\n",
       " [23,\n",
       "  12,\n",
       "  21,\n",
       "  18,\n",
       "  13,\n",
       "  29,\n",
       "  28,\n",
       "  22,\n",
       "  21,\n",
       "  18,\n",
       "  26,\n",
       "  29,\n",
       "  23,\n",
       "  6,\n",
       "  1,\n",
       "  21,\n",
       "  18,\n",
       "  26,\n",
       "  29,\n",
       "  30,\n",
       "  6,\n",
       "  1,\n",
       "  21,\n",
       "  18,\n",
       "  16,\n",
       "  29,\n",
       "  28,\n",
       "  6,\n",
       "  21,\n",
       "  18,\n",
       "  31,\n",
       "  29,\n",
       "  30,\n",
       "  6,\n",
       "  1,\n",
       "  21,\n",
       "  18,\n",
       "  13,\n",
       "  29],\n",
       " [23,\n",
       "  12,\n",
       "  21,\n",
       "  18,\n",
       "  13,\n",
       "  29,\n",
       "  28,\n",
       "  22,\n",
       "  21,\n",
       "  18,\n",
       "  26,\n",
       "  29,\n",
       "  23,\n",
       "  6,\n",
       "  1,\n",
       "  21,\n",
       "  18,\n",
       "  26,\n",
       "  29,\n",
       "  30,\n",
       "  6,\n",
       "  1,\n",
       "  21,\n",
       "  18,\n",
       "  16,\n",
       "  29,\n",
       "  28,\n",
       "  6,\n",
       "  21,\n",
       "  18,\n",
       "  31,\n",
       "  29,\n",
       "  30,\n",
       "  6,\n",
       "  1,\n",
       "  21,\n",
       "  18,\n",
       "  13,\n",
       "  29,\n",
       "  30,\n",
       "  3,\n",
       "  33,\n",
       "  18,\n",
       "  4,\n",
       "  36,\n",
       "  29,\n",
       "  30,\n",
       "  6,\n",
       "  21,\n",
       "  18,\n",
       "  26,\n",
       "  29],\n",
       " [23,\n",
       "  12,\n",
       "  21,\n",
       "  18,\n",
       "  13,\n",
       "  29,\n",
       "  28,\n",
       "  22,\n",
       "  21,\n",
       "  18,\n",
       "  26,\n",
       "  29,\n",
       "  23,\n",
       "  6,\n",
       "  1,\n",
       "  21,\n",
       "  18,\n",
       "  26,\n",
       "  29,\n",
       "  30,\n",
       "  6,\n",
       "  1,\n",
       "  21,\n",
       "  18,\n",
       "  16,\n",
       "  29,\n",
       "  28,\n",
       "  6,\n",
       "  21,\n",
       "  18,\n",
       "  31,\n",
       "  29,\n",
       "  30,\n",
       "  6,\n",
       "  1,\n",
       "  21,\n",
       "  18,\n",
       "  13,\n",
       "  29,\n",
       "  30,\n",
       "  3,\n",
       "  33,\n",
       "  18,\n",
       "  4,\n",
       "  36,\n",
       "  29,\n",
       "  30,\n",
       "  6,\n",
       "  21,\n",
       "  18,\n",
       "  26,\n",
       "  29,\n",
       "  25,\n",
       "  10,\n",
       "  21,\n",
       "  18,\n",
       "  35,\n",
       "  29,\n",
       "  28,\n",
       "  6,\n",
       "  21,\n",
       "  18,\n",
       "  5,\n",
       "  29],\n",
       " [28, 37, 18, 4, 36, 29, 23, 6, 21, 18, 26, 29],\n",
       " [28,\n",
       "  37,\n",
       "  18,\n",
       "  4,\n",
       "  36,\n",
       "  29,\n",
       "  23,\n",
       "  6,\n",
       "  21,\n",
       "  18,\n",
       "  26,\n",
       "  29,\n",
       "  30,\n",
       "  37,\n",
       "  18,\n",
       "  14,\n",
       "  36,\n",
       "  29,\n",
       "  28,\n",
       "  10,\n",
       "  21,\n",
       "  18,\n",
       "  16,\n",
       "  29],\n",
       " [28,\n",
       "  37,\n",
       "  18,\n",
       "  4,\n",
       "  36,\n",
       "  29,\n",
       "  23,\n",
       "  6,\n",
       "  21,\n",
       "  18,\n",
       "  26,\n",
       "  29,\n",
       "  30,\n",
       "  37,\n",
       "  18,\n",
       "  14,\n",
       "  36,\n",
       "  29,\n",
       "  28,\n",
       "  10,\n",
       "  21,\n",
       "  18,\n",
       "  16,\n",
       "  29,\n",
       "  28,\n",
       "  12,\n",
       "  21,\n",
       "  18,\n",
       "  5,\n",
       "  29,\n",
       "  23,\n",
       "  10,\n",
       "  21,\n",
       "  18,\n",
       "  31,\n",
       "  29],\n",
       " [28,\n",
       "  37,\n",
       "  18,\n",
       "  4,\n",
       "  36,\n",
       "  29,\n",
       "  23,\n",
       "  6,\n",
       "  21,\n",
       "  18,\n",
       "  26,\n",
       "  29,\n",
       "  30,\n",
       "  37,\n",
       "  18,\n",
       "  14,\n",
       "  36,\n",
       "  29,\n",
       "  28,\n",
       "  10,\n",
       "  21,\n",
       "  18,\n",
       "  16,\n",
       "  29,\n",
       "  28,\n",
       "  12,\n",
       "  21,\n",
       "  18,\n",
       "  5,\n",
       "  29,\n",
       "  23,\n",
       "  10,\n",
       "  21,\n",
       "  18,\n",
       "  31,\n",
       "  29,\n",
       "  28,\n",
       "  6,\n",
       "  1,\n",
       "  21,\n",
       "  18,\n",
       "  26,\n",
       "  29,\n",
       "  30,\n",
       "  17,\n",
       "  15,\n",
       "  18,\n",
       "  14,\n",
       "  29],\n",
       " [28,\n",
       "  37,\n",
       "  18,\n",
       "  4,\n",
       "  36,\n",
       "  29,\n",
       "  23,\n",
       "  6,\n",
       "  21,\n",
       "  18,\n",
       "  26,\n",
       "  29,\n",
       "  30,\n",
       "  37,\n",
       "  18,\n",
       "  14,\n",
       "  36,\n",
       "  29,\n",
       "  28,\n",
       "  10,\n",
       "  21,\n",
       "  18,\n",
       "  16,\n",
       "  29,\n",
       "  28,\n",
       "  12,\n",
       "  21,\n",
       "  18,\n",
       "  5,\n",
       "  29,\n",
       "  23,\n",
       "  10,\n",
       "  21,\n",
       "  18,\n",
       "  31,\n",
       "  29,\n",
       "  28,\n",
       "  6,\n",
       "  1,\n",
       "  21,\n",
       "  18,\n",
       "  26,\n",
       "  29,\n",
       "  30,\n",
       "  17,\n",
       "  15,\n",
       "  18,\n",
       "  14,\n",
       "  29,\n",
       "  28,\n",
       "  17,\n",
       "  15,\n",
       "  18,\n",
       "  4,\n",
       "  29,\n",
       "  28,\n",
       "  22,\n",
       "  21,\n",
       "  18,\n",
       "  35,\n",
       "  29]]"
      ]
     },
     "execution_count": 39,
     "metadata": {},
     "output_type": "execute_result"
    }
   ],
   "source": [
    "train_story_seq[:10]\n",
    "#Converting each word to its matching word index using texts to sequences method"
   ]
  },
  {
   "cell_type": "code",
   "execution_count": 43,
   "id": "b96c9c93-e687-4d5e-a2d4-9c43e8f20b72",
   "metadata": {},
   "outputs": [],
   "source": [
    "def vectorize_stories(data,word_index=tokenizer.word_index,max_story_len = max_story_len,max_question_len = max_question_len):\n",
    "    #STORIES X \n",
    "    X = []\n",
    "    #QUESTIONS Xq\n",
    "    Xq = []\n",
    "    #CORRECT ANSWER Yes/No\n",
    "    Y = []\n",
    "    for story,query,answer in data:\n",
    "        # for each story\n",
    "        # [23,12,21,18,13]\n",
    "        x = [word_index[word.lower()] for word in story]\n",
    "        xq = [word_index[word.lower()] for word in query]\n",
    "        y = np.zeros(len(word_index)+1)\n",
    "        y[word_index[answer]] = 1\n",
    "        X.append(x)\n",
    "        Xq.append(xq)\n",
    "        Y.append(y)\n",
    "    return pad_sequences(X,maxlen=max_story_len),pad_sequences(Xq,maxlen=max_question_len),np.array(Y)"
   ]
  },
  {
   "cell_type": "code",
   "execution_count": 45,
   "id": "2c6f1e4e-150b-40af-88c9-69aff7663a64",
   "metadata": {},
   "outputs": [],
   "source": [
    "inputs_train , queries_train , answers_train = vectorize_stories(train_data)"
   ]
  },
  {
   "cell_type": "code",
   "execution_count": 46,
   "id": "cea3b4ca-a4e1-41fa-8bec-13c15309fc9e",
   "metadata": {},
   "outputs": [],
   "source": [
    "inputs_test , queries_test , answers_test = vectorize_stories(test_data)"
   ]
  },
  {
   "cell_type": "code",
   "execution_count": 47,
   "id": "924abe09-193c-47b1-902a-a040aee4ec11",
   "metadata": {},
   "outputs": [
    {
     "data": {
      "text/plain": [
       "array([[ 0,  0,  0, ..., 18, 26, 29],\n",
       "       [ 0,  0,  0, ..., 18,  5, 29],\n",
       "       [ 0,  0,  0, ..., 18,  5, 29],\n",
       "       ...,\n",
       "       [ 0,  0,  0, ..., 18, 14, 29],\n",
       "       [ 0,  0,  0, ..., 18,  5, 29],\n",
       "       [ 0,  0,  0, ..., 14, 36, 29]])"
      ]
     },
     "execution_count": 47,
     "metadata": {},
     "output_type": "execute_result"
    }
   ],
   "source": [
    "inputs_test"
   ]
  },
  {
   "cell_type": "code",
   "execution_count": 48,
   "id": "2f0c8bc1-6d03-4387-87bf-072519625a68",
   "metadata": {},
   "outputs": [
    {
     "data": {
      "text/plain": [
       "array([[0., 0., 1., ..., 0., 0., 0.],\n",
       "       [0., 0., 1., ..., 0., 0., 0.],\n",
       "       [0., 0., 0., ..., 0., 0., 0.],\n",
       "       ...,\n",
       "       [0., 0., 1., ..., 0., 0., 0.],\n",
       "       [0., 0., 0., ..., 0., 0., 0.],\n",
       "       [0., 0., 0., ..., 0., 0., 0.]])"
      ]
     },
     "execution_count": 48,
     "metadata": {},
     "output_type": "execute_result"
    }
   ],
   "source": [
    "answers_test"
   ]
  },
  {
   "cell_type": "code",
   "execution_count": 49,
   "id": "4b62264d-c7b3-4403-88e1-1d49c5bfe99a",
   "metadata": {},
   "outputs": [
    {
     "data": {
      "text/plain": [
       "32"
      ]
     },
     "execution_count": 49,
     "metadata": {},
     "output_type": "execute_result"
    }
   ],
   "source": [
    "tokenizer.word_index['yes']"
   ]
  },
  {
   "cell_type": "code",
   "execution_count": 50,
   "id": "0d5f73e8-6335-4896-86d3-600b2747b5bf",
   "metadata": {},
   "outputs": [
    {
     "data": {
      "text/plain": [
       "array([  0.,   0., 503.,   0.,   0.,   0.,   0.,   0.,   0.,   0.,   0.,\n",
       "         0.,   0.,   0.,   0.,   0.,   0.,   0.,   0.,   0.,   0.,   0.,\n",
       "         0.,   0.,   0.,   0.,   0.,   0.,   0.,   0.,   0.,   0., 497.,\n",
       "         0.,   0.,   0.,   0.,   0.])"
      ]
     },
     "execution_count": 50,
     "metadata": {},
     "output_type": "execute_result"
    }
   ],
   "source": [
    "sum(answers_test)"
   ]
  },
  {
   "cell_type": "code",
   "execution_count": 54,
   "id": "5934a889-bce4-4e07-b7fc-e87f52139ad9",
   "metadata": {},
   "outputs": [],
   "source": [
    "from tensorflow.keras.models import Sequential,Model\n",
    "from keras.layers import Embedding\n",
    "from tensorflow.keras.layers import Input,Activation,Dense,Permute,Dropout,add,dot,concatenate,LSTM"
   ]
  },
  {
   "cell_type": "code",
   "execution_count": 55,
   "id": "4f660e1f-919b-409c-aca5-5d5ec6f7824b",
   "metadata": {},
   "outputs": [],
   "source": [
    "#PLACEHOLDER shape(max_story_len,batch_size)\n",
    "input_sequence = Input((max_story_len,))\n",
    "question = Input((max_question_len,))"
   ]
  },
  {
   "cell_type": "code",
   "execution_count": 56,
   "id": "cc11e50b-fcad-4ceb-8df4-dcda1efb4c3e",
   "metadata": {},
   "outputs": [],
   "source": [
    "vocab_size = len(vocab) + 1"
   ]
  },
  {
   "cell_type": "code",
   "execution_count": 57,
   "id": "728c30de-a610-4c5b-a2ba-9b962cc30fe1",
   "metadata": {},
   "outputs": [],
   "source": [
    "#INPUT ENCODER M\n",
    "input_encoder_m = Sequential()\n",
    "input_encoder_m.add(Embedding(input_dim=vocab_size,output_dim=64))\n",
    "input_encoder_m.add(Dropout(0.3))\n",
    "#(samples,story_maxlen,embedding_dim)"
   ]
  },
  {
   "cell_type": "code",
   "execution_count": 58,
   "id": "af7dfd2c-4571-4a76-aff4-b6f538b7a827",
   "metadata": {},
   "outputs": [],
   "source": [
    "#INPUT ENCODER C\n",
    "input_encoder_c = Sequential()\n",
    "input_encoder_c.add(Embedding(input_dim=vocab_size,output_dim=max_question_len))\n",
    "input_encoder_c.add(Dropout(0.3))\n",
    "#(samples,story_maxlen,question_maxlen)"
   ]
  },
  {
   "cell_type": "code",
   "execution_count": 60,
   "id": "b1a15459-7de7-4741-a035-8095a75d4432",
   "metadata": {},
   "outputs": [],
   "source": [
    "#QUESTION ENCODER\n",
    "question_encoder = Sequential()\n",
    "question_encoder.add(Embedding(input_dim=vocab_size,output_dim=64,input_length=max_question_len))\n",
    "question_encoder.add(Dropout(0.3))\n",
    "# (samples,query_maxlen,embedding_dim)"
   ]
  },
  {
   "cell_type": "code",
   "execution_count": 62,
   "id": "e0d09e93-8e94-43a6-a7ca-17bff0b0bc64",
   "metadata": {},
   "outputs": [],
   "source": [
    "#ENCODER(INPUT) ---> ENCODED\n",
    "input_encoded_m = input_encoder_m(input_sequence)\n",
    "input_encoded_c = input_encoder_c(input_sequence)\n",
    "question_encoded = question_encoder(question)"
   ]
  },
  {
   "cell_type": "code",
   "execution_count": 63,
   "id": "28b63da3-8fc6-4eeb-80e6-913366134e4c",
   "metadata": {},
   "outputs": [],
   "source": [
    "match = dot([input_encoded_m,question_encoded],axes=(2,2))\n",
    "match = Activation('softmax')(match)\n",
    "response = add([match,input_encoded_c])\n",
    "response = Permute((2,1))(response)"
   ]
  },
  {
   "cell_type": "code",
   "execution_count": 65,
   "id": "f0ebc56a-15e6-472f-bf7a-4d7c6c8cdf15",
   "metadata": {},
   "outputs": [
    {
     "data": {
      "text/plain": [
       "<KerasTensor: shape=(None, 6, 220) dtype=float32 (created by layer 'concatenate')>"
      ]
     },
     "execution_count": 65,
     "metadata": {},
     "output_type": "execute_result"
    }
   ],
   "source": [
    "answer = concatenate([response,question_encoded])\n",
    "answer"
   ]
  },
  {
   "cell_type": "code",
   "execution_count": 66,
   "id": "47df880b-19d2-4161-930f-e8d8b2c6998f",
   "metadata": {},
   "outputs": [],
   "source": [
    "answer = LSTM(32)(answer)"
   ]
  },
  {
   "cell_type": "code",
   "execution_count": 67,
   "id": "63d3f295-8a26-4ebc-a024-8a79a431d7f3",
   "metadata": {},
   "outputs": [],
   "source": [
    "answer = Dropout(0.5)(answer)"
   ]
  },
  {
   "cell_type": "code",
   "execution_count": 68,
   "id": "7c757fa5-8732-476e-bade-91600f5687cd",
   "metadata": {},
   "outputs": [],
   "source": [
    "answer = Dense(vocab_size)(answer) # (samples,vocab_size) YES/NO"
   ]
  },
  {
   "cell_type": "code",
   "execution_count": 69,
   "id": "82ddc35c-f168-4bb0-b0d3-2d90b392bdb6",
   "metadata": {},
   "outputs": [],
   "source": [
    "answer = Activation('softmax')(answer)"
   ]
  },
  {
   "cell_type": "code",
   "execution_count": 71,
   "id": "6d3e493a-b159-4f79-9f4b-d7aba5ed61e0",
   "metadata": {},
   "outputs": [],
   "source": [
    "model = Model([input_sequence,question],answer)"
   ]
  },
  {
   "cell_type": "code",
   "execution_count": 73,
   "id": "3382b17c-f2b9-46db-9b74-96a491b36f10",
   "metadata": {},
   "outputs": [],
   "source": [
    "model.compile(optimizer='rmsprop',loss='categorical_crossentropy',metrics=['accuracy'])"
   ]
  },
  {
   "cell_type": "code",
   "execution_count": 74,
   "id": "e984925f-ba1b-459d-a2fa-1aff4960bf35",
   "metadata": {},
   "outputs": [
    {
     "name": "stdout",
     "output_type": "stream",
     "text": [
      "Model: \"model\"\n",
      "__________________________________________________________________________________________________\n",
      " Layer (type)                   Output Shape         Param #     Connected to                     \n",
      "==================================================================================================\n",
      " input_1 (InputLayer)           [(None, 156)]        0           []                               \n",
      "                                                                                                  \n",
      " input_2 (InputLayer)           [(None, 6)]          0           []                               \n",
      "                                                                                                  \n",
      " sequential (Sequential)        (None, None, 64)     2432        ['input_1[0][0]']                \n",
      "                                                                                                  \n",
      " sequential_3 (Sequential)      (None, 6, 64)        2432        ['input_2[0][0]']                \n",
      "                                                                                                  \n",
      " dot (Dot)                      (None, 156, 6)       0           ['sequential[0][0]',             \n",
      "                                                                  'sequential_3[0][0]']           \n",
      "                                                                                                  \n",
      " activation (Activation)        (None, 156, 6)       0           ['dot[0][0]']                    \n",
      "                                                                                                  \n",
      " sequential_1 (Sequential)      (None, None, 6)      228         ['input_1[0][0]']                \n",
      "                                                                                                  \n",
      " add (Add)                      (None, 156, 6)       0           ['activation[0][0]',             \n",
      "                                                                  'sequential_1[0][0]']           \n",
      "                                                                                                  \n",
      " permute (Permute)              (None, 6, 156)       0           ['add[0][0]']                    \n",
      "                                                                                                  \n",
      " concatenate (Concatenate)      (None, 6, 220)       0           ['permute[0][0]',                \n",
      "                                                                  'sequential_3[0][0]']           \n",
      "                                                                                                  \n",
      " lstm (LSTM)                    (None, 32)           32384       ['concatenate[0][0]']            \n",
      "                                                                                                  \n",
      " dropout_3 (Dropout)            (None, 32)           0           ['lstm[0][0]']                   \n",
      "                                                                                                  \n",
      " dense (Dense)                  (None, 38)           1254        ['dropout_3[0][0]']              \n",
      "                                                                                                  \n",
      " activation_1 (Activation)      (None, 38)           0           ['dense[0][0]']                  \n",
      "                                                                                                  \n",
      "==================================================================================================\n",
      "Total params: 38,730\n",
      "Trainable params: 38,730\n",
      "Non-trainable params: 0\n",
      "__________________________________________________________________________________________________\n"
     ]
    }
   ],
   "source": [
    "model.summary()"
   ]
  },
  {
   "cell_type": "code",
   "execution_count": 77,
   "id": "e18595f7-9876-4019-9530-01c2311d24af",
   "metadata": {},
   "outputs": [
    {
     "name": "stdout",
     "output_type": "stream",
     "text": [
      "Epoch 1/120\n",
      "313/313 [==============================] - 7s 22ms/step - loss: 0.6947 - accuracy: 0.5050 - val_loss: 0.7008 - val_accuracy: 0.4970\n",
      "Epoch 2/120\n",
      "313/313 [==============================] - 8s 24ms/step - loss: 0.6950 - accuracy: 0.4997 - val_loss: 0.6932 - val_accuracy: 0.4970\n",
      "Epoch 3/120\n",
      "313/313 [==============================] - 8s 24ms/step - loss: 0.6945 - accuracy: 0.5024 - val_loss: 0.6950 - val_accuracy: 0.4970\n",
      "Epoch 4/120\n",
      "313/313 [==============================] - 8s 24ms/step - loss: 0.6943 - accuracy: 0.5034 - val_loss: 0.6932 - val_accuracy: 0.4970\n",
      "Epoch 5/120\n",
      "313/313 [==============================] - 7s 24ms/step - loss: 0.6946 - accuracy: 0.5003 - val_loss: 0.6934 - val_accuracy: 0.5030\n",
      "Epoch 6/120\n",
      "313/313 [==============================] - 7s 24ms/step - loss: 0.6942 - accuracy: 0.5004 - val_loss: 0.6953 - val_accuracy: 0.4970\n",
      "Epoch 7/120\n",
      "313/313 [==============================] - 8s 24ms/step - loss: 0.6942 - accuracy: 0.5051 - val_loss: 0.6950 - val_accuracy: 0.5030\n",
      "Epoch 8/120\n",
      "313/313 [==============================] - 8s 24ms/step - loss: 0.6938 - accuracy: 0.5061 - val_loss: 0.6943 - val_accuracy: 0.5370\n",
      "Epoch 9/120\n",
      "313/313 [==============================] - 7s 24ms/step - loss: 0.6914 - accuracy: 0.5271 - val_loss: 0.6930 - val_accuracy: 0.4830\n",
      "Epoch 10/120\n",
      "313/313 [==============================] - 8s 25ms/step - loss: 0.6862 - accuracy: 0.5364 - val_loss: 0.6846 - val_accuracy: 0.5030\n",
      "Epoch 11/120\n",
      "313/313 [==============================] - 7s 24ms/step - loss: 0.6664 - accuracy: 0.5831 - val_loss: 0.6523 - val_accuracy: 0.6530\n",
      "Epoch 12/120\n",
      "313/313 [==============================] - 8s 24ms/step - loss: 0.6438 - accuracy: 0.6291 - val_loss: 0.6214 - val_accuracy: 0.6670\n",
      "Epoch 13/120\n",
      "313/313 [==============================] - 8s 26ms/step - loss: 0.6334 - accuracy: 0.6448 - val_loss: 0.6150 - val_accuracy: 0.6660\n",
      "Epoch 14/120\n",
      "313/313 [==============================] - 8s 25ms/step - loss: 0.6196 - accuracy: 0.6605 - val_loss: 0.5948 - val_accuracy: 0.6760\n",
      "Epoch 15/120\n",
      "313/313 [==============================] - 8s 27ms/step - loss: 0.6023 - accuracy: 0.6825 - val_loss: 0.5762 - val_accuracy: 0.6990\n",
      "Epoch 16/120\n",
      "313/313 [==============================] - 8s 25ms/step - loss: 0.5860 - accuracy: 0.6971 - val_loss: 0.5451 - val_accuracy: 0.7330\n",
      "Epoch 17/120\n",
      "313/313 [==============================] - 8s 27ms/step - loss: 0.5633 - accuracy: 0.7220 - val_loss: 0.5188 - val_accuracy: 0.7540\n",
      "Epoch 18/120\n",
      "313/313 [==============================] - 8s 24ms/step - loss: 0.5409 - accuracy: 0.7405 - val_loss: 0.4933 - val_accuracy: 0.7790\n",
      "Epoch 19/120\n",
      "313/313 [==============================] - 8s 25ms/step - loss: 0.5156 - accuracy: 0.7556 - val_loss: 0.4686 - val_accuracy: 0.7870\n",
      "Epoch 20/120\n",
      "313/313 [==============================] - 8s 24ms/step - loss: 0.4978 - accuracy: 0.7686 - val_loss: 0.4594 - val_accuracy: 0.7890\n",
      "Epoch 21/120\n",
      "313/313 [==============================] - 9s 28ms/step - loss: 0.4804 - accuracy: 0.7864 - val_loss: 0.4425 - val_accuracy: 0.7910\n",
      "Epoch 22/120\n",
      "313/313 [==============================] - 8s 25ms/step - loss: 0.4603 - accuracy: 0.7976 - val_loss: 0.4307 - val_accuracy: 0.8140\n",
      "Epoch 23/120\n",
      "313/313 [==============================] - 9s 28ms/step - loss: 0.4424 - accuracy: 0.8064 - val_loss: 0.4230 - val_accuracy: 0.8040\n",
      "Epoch 24/120\n",
      "313/313 [==============================] - 8s 27ms/step - loss: 0.4357 - accuracy: 0.8122 - val_loss: 0.4338 - val_accuracy: 0.8100\n",
      "Epoch 25/120\n",
      "313/313 [==============================] - 8s 27ms/step - loss: 0.4210 - accuracy: 0.8217 - val_loss: 0.4103 - val_accuracy: 0.8160\n",
      "Epoch 26/120\n",
      "313/313 [==============================] - 8s 27ms/step - loss: 0.4127 - accuracy: 0.8223 - val_loss: 0.4183 - val_accuracy: 0.8240\n",
      "Epoch 27/120\n",
      "313/313 [==============================] - 8s 27ms/step - loss: 0.4028 - accuracy: 0.8312 - val_loss: 0.3942 - val_accuracy: 0.8240\n",
      "Epoch 28/120\n",
      "313/313 [==============================] - 8s 27ms/step - loss: 0.3834 - accuracy: 0.8417 - val_loss: 0.3983 - val_accuracy: 0.8230\n",
      "Epoch 29/120\n",
      "313/313 [==============================] - 8s 26ms/step - loss: 0.3906 - accuracy: 0.8331 - val_loss: 0.3993 - val_accuracy: 0.8200\n",
      "Epoch 30/120\n",
      "313/313 [==============================] - 8s 27ms/step - loss: 0.3764 - accuracy: 0.8431 - val_loss: 0.3860 - val_accuracy: 0.8150\n",
      "Epoch 31/120\n",
      "313/313 [==============================] - 8s 26ms/step - loss: 0.3698 - accuracy: 0.8441 - val_loss: 0.3761 - val_accuracy: 0.8240\n",
      "Epoch 32/120\n",
      "313/313 [==============================] - 9s 28ms/step - loss: 0.3631 - accuracy: 0.8463 - val_loss: 0.3896 - val_accuracy: 0.8180\n",
      "Epoch 33/120\n",
      "313/313 [==============================] - 8s 27ms/step - loss: 0.3586 - accuracy: 0.8495 - val_loss: 0.3711 - val_accuracy: 0.8200\n",
      "Epoch 34/120\n",
      "313/313 [==============================] - 9s 28ms/step - loss: 0.3528 - accuracy: 0.8497 - val_loss: 0.3760 - val_accuracy: 0.8250\n",
      "Epoch 35/120\n",
      "313/313 [==============================] - 9s 28ms/step - loss: 0.3528 - accuracy: 0.8512 - val_loss: 0.3728 - val_accuracy: 0.8190\n",
      "Epoch 36/120\n",
      "313/313 [==============================] - 8s 26ms/step - loss: 0.3496 - accuracy: 0.8500 - val_loss: 0.3769 - val_accuracy: 0.8250\n",
      "Epoch 37/120\n",
      "313/313 [==============================] - 8s 26ms/step - loss: 0.3379 - accuracy: 0.8569 - val_loss: 0.3620 - val_accuracy: 0.8250\n",
      "Epoch 38/120\n",
      "313/313 [==============================] - 8s 27ms/step - loss: 0.3365 - accuracy: 0.8546 - val_loss: 0.3608 - val_accuracy: 0.8370\n",
      "Epoch 39/120\n",
      "313/313 [==============================] - 9s 29ms/step - loss: 0.3362 - accuracy: 0.8593 - val_loss: 0.3787 - val_accuracy: 0.8170\n",
      "Epoch 40/120\n",
      "313/313 [==============================] - 10s 31ms/step - loss: 0.3296 - accuracy: 0.8609 - val_loss: 0.3633 - val_accuracy: 0.8240\n",
      "Epoch 41/120\n",
      "313/313 [==============================] - 8s 27ms/step - loss: 0.3250 - accuracy: 0.8623 - val_loss: 0.3676 - val_accuracy: 0.8220\n",
      "Epoch 42/120\n",
      "313/313 [==============================] - 9s 28ms/step - loss: 0.3236 - accuracy: 0.8613 - val_loss: 0.3757 - val_accuracy: 0.8190\n",
      "Epoch 43/120\n",
      "313/313 [==============================] - 9s 30ms/step - loss: 0.3203 - accuracy: 0.8620 - val_loss: 0.3695 - val_accuracy: 0.8180\n",
      "Epoch 44/120\n",
      "313/313 [==============================] - 10s 32ms/step - loss: 0.3153 - accuracy: 0.8657 - val_loss: 0.3903 - val_accuracy: 0.8210\n",
      "Epoch 45/120\n",
      "313/313 [==============================] - 10s 32ms/step - loss: 0.3169 - accuracy: 0.8631 - val_loss: 0.3612 - val_accuracy: 0.8260\n",
      "Epoch 46/120\n",
      "313/313 [==============================] - 11s 35ms/step - loss: 0.3179 - accuracy: 0.8597 - val_loss: 0.3778 - val_accuracy: 0.8300\n",
      "Epoch 47/120\n",
      "313/313 [==============================] - 11s 34ms/step - loss: 0.3166 - accuracy: 0.8648 - val_loss: 0.3662 - val_accuracy: 0.8200\n",
      "Epoch 48/120\n",
      "313/313 [==============================] - 10s 33ms/step - loss: 0.3089 - accuracy: 0.8675 - val_loss: 0.3579 - val_accuracy: 0.8250\n",
      "Epoch 49/120\n",
      "313/313 [==============================] - 10s 32ms/step - loss: 0.3083 - accuracy: 0.8667 - val_loss: 0.3573 - val_accuracy: 0.8310\n",
      "Epoch 50/120\n",
      "313/313 [==============================] - 11s 34ms/step - loss: 0.3075 - accuracy: 0.8696 - val_loss: 0.3701 - val_accuracy: 0.8270\n",
      "Epoch 51/120\n",
      "313/313 [==============================] - 9s 28ms/step - loss: 0.3113 - accuracy: 0.8644 - val_loss: 0.3487 - val_accuracy: 0.8300\n",
      "Epoch 52/120\n",
      "313/313 [==============================] - 8s 26ms/step - loss: 0.3075 - accuracy: 0.8677 - val_loss: 0.3755 - val_accuracy: 0.8250\n",
      "Epoch 53/120\n",
      "313/313 [==============================] - 8s 26ms/step - loss: 0.3024 - accuracy: 0.8723 - val_loss: 0.3652 - val_accuracy: 0.8240\n",
      "Epoch 54/120\n",
      "313/313 [==============================] - 8s 26ms/step - loss: 0.3051 - accuracy: 0.8711 - val_loss: 0.3651 - val_accuracy: 0.8300\n",
      "Epoch 55/120\n",
      "313/313 [==============================] - 8s 26ms/step - loss: 0.3064 - accuracy: 0.8704 - val_loss: 0.3569 - val_accuracy: 0.8350\n",
      "Epoch 56/120\n",
      "313/313 [==============================] - 9s 27ms/step - loss: 0.3024 - accuracy: 0.8726 - val_loss: 0.3696 - val_accuracy: 0.8310\n",
      "Epoch 57/120\n",
      "313/313 [==============================] - 9s 27ms/step - loss: 0.2998 - accuracy: 0.8724 - val_loss: 0.3644 - val_accuracy: 0.8260\n",
      "Epoch 58/120\n",
      "313/313 [==============================] - 9s 28ms/step - loss: 0.2987 - accuracy: 0.8688 - val_loss: 0.3688 - val_accuracy: 0.8260\n",
      "Epoch 59/120\n",
      "313/313 [==============================] - 9s 28ms/step - loss: 0.3001 - accuracy: 0.8693 - val_loss: 0.3671 - val_accuracy: 0.8310\n",
      "Epoch 60/120\n",
      "313/313 [==============================] - 9s 29ms/step - loss: 0.2964 - accuracy: 0.8728 - val_loss: 0.3668 - val_accuracy: 0.8310\n",
      "Epoch 61/120\n",
      "313/313 [==============================] - 10s 32ms/step - loss: 0.2988 - accuracy: 0.8692 - val_loss: 0.3598 - val_accuracy: 0.8400\n",
      "Epoch 62/120\n",
      "313/313 [==============================] - 10s 33ms/step - loss: 0.2931 - accuracy: 0.8734 - val_loss: 0.3680 - val_accuracy: 0.8250\n",
      "Epoch 63/120\n",
      "313/313 [==============================] - 11s 34ms/step - loss: 0.2961 - accuracy: 0.8732 - val_loss: 0.3676 - val_accuracy: 0.8340\n",
      "Epoch 64/120\n",
      "313/313 [==============================] - 8s 25ms/step - loss: 0.2892 - accuracy: 0.8764 - val_loss: 0.3729 - val_accuracy: 0.8360\n",
      "Epoch 65/120\n",
      "313/313 [==============================] - 7s 24ms/step - loss: 0.2905 - accuracy: 0.8729 - val_loss: 0.3735 - val_accuracy: 0.8310\n",
      "Epoch 66/120\n",
      "313/313 [==============================] - 7s 23ms/step - loss: 0.2913 - accuracy: 0.8729 - val_loss: 0.3745 - val_accuracy: 0.8290\n",
      "Epoch 67/120\n",
      "313/313 [==============================] - 8s 25ms/step - loss: 0.2884 - accuracy: 0.8730 - val_loss: 0.3623 - val_accuracy: 0.8370\n",
      "Epoch 68/120\n",
      "313/313 [==============================] - 7s 24ms/step - loss: 0.2886 - accuracy: 0.8760 - val_loss: 0.3884 - val_accuracy: 0.8320\n",
      "Epoch 69/120\n",
      "313/313 [==============================] - 8s 25ms/step - loss: 0.2923 - accuracy: 0.8759 - val_loss: 0.3776 - val_accuracy: 0.8290\n",
      "Epoch 70/120\n",
      "313/313 [==============================] - 8s 26ms/step - loss: 0.2850 - accuracy: 0.8799 - val_loss: 0.3786 - val_accuracy: 0.8320\n",
      "Epoch 71/120\n",
      "313/313 [==============================] - 8s 25ms/step - loss: 0.2871 - accuracy: 0.8771 - val_loss: 0.3654 - val_accuracy: 0.8410\n",
      "Epoch 72/120\n",
      "313/313 [==============================] - 7s 23ms/step - loss: 0.2859 - accuracy: 0.8800 - val_loss: 0.3794 - val_accuracy: 0.8260\n",
      "Epoch 73/120\n",
      "313/313 [==============================] - 7s 23ms/step - loss: 0.2827 - accuracy: 0.8828 - val_loss: 0.3719 - val_accuracy: 0.8360\n",
      "Epoch 74/120\n",
      "313/313 [==============================] - 8s 24ms/step - loss: 0.2854 - accuracy: 0.8776 - val_loss: 0.3731 - val_accuracy: 0.8340\n",
      "Epoch 75/120\n",
      "313/313 [==============================] - 8s 25ms/step - loss: 0.2831 - accuracy: 0.8796 - val_loss: 0.3756 - val_accuracy: 0.8330\n",
      "Epoch 76/120\n",
      "313/313 [==============================] - 8s 25ms/step - loss: 0.2801 - accuracy: 0.8824 - val_loss: 0.3595 - val_accuracy: 0.8370\n",
      "Epoch 77/120\n",
      "313/313 [==============================] - 8s 26ms/step - loss: 0.2751 - accuracy: 0.8851 - val_loss: 0.3768 - val_accuracy: 0.8350\n",
      "Epoch 78/120\n",
      "313/313 [==============================] - 8s 26ms/step - loss: 0.2772 - accuracy: 0.8851 - val_loss: 0.4068 - val_accuracy: 0.8260\n",
      "Epoch 79/120\n",
      "313/313 [==============================] - 8s 25ms/step - loss: 0.2789 - accuracy: 0.8818 - val_loss: 0.3671 - val_accuracy: 0.8310\n",
      "Epoch 80/120\n",
      "313/313 [==============================] - 8s 24ms/step - loss: 0.2764 - accuracy: 0.8807 - val_loss: 0.3727 - val_accuracy: 0.8300\n",
      "Epoch 81/120\n",
      "313/313 [==============================] - 7s 23ms/step - loss: 0.2711 - accuracy: 0.8828 - val_loss: 0.3923 - val_accuracy: 0.8270\n",
      "Epoch 82/120\n",
      "313/313 [==============================] - 7s 23ms/step - loss: 0.2718 - accuracy: 0.8848 - val_loss: 0.3969 - val_accuracy: 0.8290\n",
      "Epoch 83/120\n",
      "313/313 [==============================] - 7s 22ms/step - loss: 0.2723 - accuracy: 0.8829 - val_loss: 0.3852 - val_accuracy: 0.8320\n",
      "Epoch 84/120\n",
      "313/313 [==============================] - 7s 23ms/step - loss: 0.2684 - accuracy: 0.8839 - val_loss: 0.3756 - val_accuracy: 0.8350\n",
      "Epoch 85/120\n",
      "313/313 [==============================] - 8s 24ms/step - loss: 0.2704 - accuracy: 0.8835 - val_loss: 0.3896 - val_accuracy: 0.8300\n",
      "Epoch 86/120\n",
      "313/313 [==============================] - 8s 24ms/step - loss: 0.2573 - accuracy: 0.8893 - val_loss: 0.3941 - val_accuracy: 0.8310\n",
      "Epoch 87/120\n",
      "313/313 [==============================] - 7s 23ms/step - loss: 0.2681 - accuracy: 0.8877 - val_loss: 0.3983 - val_accuracy: 0.8190\n",
      "Epoch 88/120\n",
      "313/313 [==============================] - 7s 23ms/step - loss: 0.2625 - accuracy: 0.8902 - val_loss: 0.4034 - val_accuracy: 0.8240\n",
      "Epoch 89/120\n",
      "313/313 [==============================] - 8s 26ms/step - loss: 0.2602 - accuracy: 0.8920 - val_loss: 0.3888 - val_accuracy: 0.8270\n",
      "Epoch 90/120\n",
      "313/313 [==============================] - 8s 24ms/step - loss: 0.2652 - accuracy: 0.8868 - val_loss: 0.3999 - val_accuracy: 0.8290\n",
      "Epoch 91/120\n",
      "313/313 [==============================] - 8s 25ms/step - loss: 0.2620 - accuracy: 0.8909 - val_loss: 0.4072 - val_accuracy: 0.8290\n",
      "Epoch 92/120\n",
      "313/313 [==============================] - 8s 24ms/step - loss: 0.2550 - accuracy: 0.8901 - val_loss: 0.4037 - val_accuracy: 0.8310\n",
      "Epoch 93/120\n",
      "313/313 [==============================] - 7s 23ms/step - loss: 0.2615 - accuracy: 0.8919 - val_loss: 0.3969 - val_accuracy: 0.8350\n",
      "Epoch 94/120\n",
      "313/313 [==============================] - 7s 23ms/step - loss: 0.2573 - accuracy: 0.8919 - val_loss: 0.3950 - val_accuracy: 0.8340\n",
      "Epoch 95/120\n",
      "313/313 [==============================] - 7s 23ms/step - loss: 0.2532 - accuracy: 0.8903 - val_loss: 0.4188 - val_accuracy: 0.8290\n",
      "Epoch 96/120\n",
      "313/313 [==============================] - 7s 22ms/step - loss: 0.2541 - accuracy: 0.8914 - val_loss: 0.3871 - val_accuracy: 0.8360\n",
      "Epoch 97/120\n",
      "313/313 [==============================] - 7s 23ms/step - loss: 0.2585 - accuracy: 0.8911 - val_loss: 0.4037 - val_accuracy: 0.8360\n",
      "Epoch 98/120\n",
      "313/313 [==============================] - 7s 22ms/step - loss: 0.2517 - accuracy: 0.8936 - val_loss: 0.4106 - val_accuracy: 0.8320\n",
      "Epoch 99/120\n",
      "313/313 [==============================] - 7s 22ms/step - loss: 0.2571 - accuracy: 0.8914 - val_loss: 0.4051 - val_accuracy: 0.8340\n",
      "Epoch 100/120\n",
      "313/313 [==============================] - 7s 23ms/step - loss: 0.2516 - accuracy: 0.8938 - val_loss: 0.3856 - val_accuracy: 0.8320\n",
      "Epoch 101/120\n",
      "313/313 [==============================] - 7s 23ms/step - loss: 0.2412 - accuracy: 0.8993 - val_loss: 0.3865 - val_accuracy: 0.8310\n",
      "Epoch 102/120\n",
      "313/313 [==============================] - 9s 29ms/step - loss: 0.2511 - accuracy: 0.8945 - val_loss: 0.4031 - val_accuracy: 0.8330\n",
      "Epoch 103/120\n",
      "313/313 [==============================] - 10s 33ms/step - loss: 0.2502 - accuracy: 0.8948 - val_loss: 0.4154 - val_accuracy: 0.8260\n",
      "Epoch 104/120\n",
      "313/313 [==============================] - 10s 32ms/step - loss: 0.2424 - accuracy: 0.8994 - val_loss: 0.4247 - val_accuracy: 0.8260\n",
      "Epoch 105/120\n",
      "313/313 [==============================] - 10s 33ms/step - loss: 0.2430 - accuracy: 0.8984 - val_loss: 0.3973 - val_accuracy: 0.8300\n",
      "Epoch 106/120\n",
      "313/313 [==============================] - 10s 31ms/step - loss: 0.2469 - accuracy: 0.8988 - val_loss: 0.4269 - val_accuracy: 0.8270\n",
      "Epoch 107/120\n",
      "313/313 [==============================] - 9s 29ms/step - loss: 0.2401 - accuracy: 0.8987 - val_loss: 0.4097 - val_accuracy: 0.8300\n",
      "Epoch 108/120\n",
      "313/313 [==============================] - 9s 29ms/step - loss: 0.2412 - accuracy: 0.8986 - val_loss: 0.4205 - val_accuracy: 0.8350\n",
      "Epoch 109/120\n",
      "313/313 [==============================] - 9s 29ms/step - loss: 0.2372 - accuracy: 0.8997 - val_loss: 0.4430 - val_accuracy: 0.8310\n",
      "Epoch 110/120\n",
      "313/313 [==============================] - 9s 29ms/step - loss: 0.2404 - accuracy: 0.8984 - val_loss: 0.4108 - val_accuracy: 0.8300\n",
      "Epoch 111/120\n",
      "313/313 [==============================] - 9s 30ms/step - loss: 0.2373 - accuracy: 0.9023 - val_loss: 0.4247 - val_accuracy: 0.8320\n",
      "Epoch 112/120\n",
      "313/313 [==============================] - 9s 29ms/step - loss: 0.2402 - accuracy: 0.9010 - val_loss: 0.4018 - val_accuracy: 0.8280\n",
      "Epoch 113/120\n",
      "313/313 [==============================] - 9s 30ms/step - loss: 0.2379 - accuracy: 0.9007 - val_loss: 0.3990 - val_accuracy: 0.8290\n",
      "Epoch 114/120\n",
      "313/313 [==============================] - 8s 26ms/step - loss: 0.2312 - accuracy: 0.9035 - val_loss: 0.4444 - val_accuracy: 0.8270\n",
      "Epoch 115/120\n",
      "313/313 [==============================] - 8s 27ms/step - loss: 0.2348 - accuracy: 0.8994 - val_loss: 0.4245 - val_accuracy: 0.8270\n",
      "Epoch 116/120\n",
      "313/313 [==============================] - 8s 26ms/step - loss: 0.2344 - accuracy: 0.9009 - val_loss: 0.4285 - val_accuracy: 0.8250\n",
      "Epoch 117/120\n",
      "313/313 [==============================] - 8s 26ms/step - loss: 0.2314 - accuracy: 0.9042 - val_loss: 0.4192 - val_accuracy: 0.8210\n",
      "Epoch 118/120\n",
      "313/313 [==============================] - 8s 27ms/step - loss: 0.2343 - accuracy: 0.9013 - val_loss: 0.4311 - val_accuracy: 0.8340\n",
      "Epoch 119/120\n",
      "313/313 [==============================] - 8s 26ms/step - loss: 0.2341 - accuracy: 0.9024 - val_loss: 0.4673 - val_accuracy: 0.8310\n",
      "Epoch 120/120\n",
      "313/313 [==============================] - 8s 26ms/step - loss: 0.2266 - accuracy: 0.9039 - val_loss: 0.4390 - val_accuracy: 0.8250\n"
     ]
    }
   ],
   "source": [
    "history = model.fit([inputs_train,queries_train],answers_train,batch_size=32,epochs=120,validation_data=([inputs_test,queries_test],answers_test))"
   ]
  },
  {
   "cell_type": "code",
   "execution_count": 81,
   "id": "db43aec4-4722-4adf-810d-b7b268dbd6e1",
   "metadata": {},
   "outputs": [
    {
     "name": "stdout",
     "output_type": "stream",
     "text": [
      "dict_keys(['loss', 'accuracy', 'val_loss', 'val_accuracy'])\n"
     ]
    },
    {
     "data": {
      "image/png": "[encoded data removed]",
      "text/plain": [
       "<Figure size 640x480 with 1 Axes>"
      ]
     },
     "metadata": {},
     "output_type": "display_data"
    }
   ],
   "source": [
    "import matplotlib.pyplot as plt\n",
    "%matplotlib inline\n",
    "print(history.history.keys())\n",
    "# summarize history for accuracy\n",
    "plt.plot(history.history['accuracy'])\n",
    "plt.plot(history.history['val_accuracy'])\n",
    "plt.title('model accuracy')\n",
    "plt.ylabel('accuracy')\n",
    "plt.xlabel('epoch')\n",
    "plt.legend(['train', 'test'], loc='upper left')\n",
    "plt.show()"
   ]
  },
  {
   "cell_type": "code",
   "execution_count": 82,
   "id": "2dbf7010-ea77-43e0-baff-5f80fcb372b8",
   "metadata": {},
   "outputs": [
    {
     "name": "stdout",
     "output_type": "stream",
     "text": [
      "32/32 [==============================] - 1s 10ms/step\n"
     ]
    }
   ],
   "source": [
    "pred_results = model.predict(([inputs_test,queries_test]))"
   ]
  },
  {
   "cell_type": "code",
   "execution_count": 86,
   "id": "3d80fdca-02e8-4a3c-8c64-38eb2e17b0b8",
   "metadata": {},
   "outputs": [],
   "source": [
    "val_max = np.argmax(pred_results[0])"
   ]
  },
  {
   "cell_type": "code",
   "execution_count": 87,
   "id": "12046efd-b339-40d6-aa7b-3d99e4224412",
   "metadata": {},
   "outputs": [
    {
     "data": {
      "text/plain": [
       "['Mary',\n",
       " 'got',\n",
       " 'the',\n",
       " 'milk',\n",
       " 'there',\n",
       " '.',\n",
       " 'John',\n",
       " 'moved',\n",
       " 'to',\n",
       " 'the',\n",
       " 'bedroom',\n",
       " '.']"
      ]
     },
     "execution_count": 87,
     "metadata": {},
     "output_type": "execute_result"
    }
   ],
   "source": [
    "test_data[0][0]"
   ]
  },
  {
   "cell_type": "code",
   "execution_count": 88,
   "id": "00803cb1-7608-44e2-a676-f2d9e645433b",
   "metadata": {},
   "outputs": [
    {
     "data": {
      "text/plain": [
       "['Is', 'John', 'in', 'the', 'kitchen', '?']"
      ]
     },
     "execution_count": 88,
     "metadata": {},
     "output_type": "execute_result"
    }
   ],
   "source": [
    "test_data[0][1]"
   ]
  },
  {
   "cell_type": "code",
   "execution_count": 89,
   "id": "56c76fef-87b4-4e93-892b-56393e3cc7dd",
   "metadata": {},
   "outputs": [
    {
     "data": {
      "text/plain": [
       "'no'"
      ]
     },
     "execution_count": 89,
     "metadata": {},
     "output_type": "execute_result"
    }
   ],
   "source": [
    "test_data[0][2]"
   ]
  },
  {
   "cell_type": "code",
   "execution_count": 90,
   "id": "2d13fbb1-88ae-40be-bbe1-30a7c8085e57",
   "metadata": {},
   "outputs": [],
   "source": [
    "for key,val in tokenizer.word_index.items():\n",
    "    if val == val_max:\n",
    "        k = key"
   ]
  },
  {
   "cell_type": "code",
   "execution_count": 91,
   "id": "8814a11e-ae24-46e1-86ba-72b9d1c75e77",
   "metadata": {},
   "outputs": [
    {
     "data": {
      "text/plain": [
       "'no'"
      ]
     },
     "execution_count": 91,
     "metadata": {},
     "output_type": "execute_result"
    }
   ],
   "source": [
    "k"
   ]
  },
  {
   "cell_type": "code",
   "execution_count": 93,
   "id": "a51d0ca4-8d1d-4f7e-9188-85a004807166",
   "metadata": {},
   "outputs": [
    {
     "data": {
      "text/plain": [
       "0.9999627"
      ]
     },
     "execution_count": 93,
     "metadata": {},
     "output_type": "execute_result"
    }
   ],
   "source": [
    "pred_results[0][val_max] #Our model is %99 sure about the answer"
   ]
  },
  {
   "cell_type": "markdown",
   "id": "128967eb-1012-4b90-9770-320bbc923dc0",
   "metadata": {},
   "source": [
    "**Creating my own story**"
   ]
  },
  {
   "cell_type": "code",
   "execution_count": 94,
   "id": "55281cd9-70c1-4a91-a019-feb538546eff",
   "metadata": {},
   "outputs": [],
   "source": [
    "my_story = \"John left the kitchen . Sandra dropped the football in the garden .\""
   ]
  },
  {
   "cell_type": "code",
   "execution_count": 95,
   "id": "e26b6d1b-4503-44d6-b644-6ff6c4264e1e",
   "metadata": {},
   "outputs": [
    {
     "data": {
      "text/plain": [
       "['John',\n",
       " 'left',\n",
       " 'the',\n",
       " 'kitchen',\n",
       " '.',\n",
       " 'Sandra',\n",
       " 'dropped',\n",
       " 'the',\n",
       " 'football',\n",
       " 'in',\n",
       " 'the',\n",
       " 'garden',\n",
       " '.']"
      ]
     },
     "execution_count": 95,
     "metadata": {},
     "output_type": "execute_result"
    }
   ],
   "source": [
    "my_story.split()"
   ]
  },
  {
   "cell_type": "code",
   "execution_count": 96,
   "id": "44c7898d-c062-4eb3-94e1-effca4f2c214",
   "metadata": {},
   "outputs": [],
   "source": [
    "my_question = \"Is the football in the garden ?\""
   ]
  },
  {
   "cell_type": "code",
   "execution_count": 97,
   "id": "71ae244c-e288-422d-8720-4bea10022f7f",
   "metadata": {},
   "outputs": [
    {
     "data": {
      "text/plain": [
       "['Is', 'the', 'football', 'in', 'the', 'garden', '?']"
      ]
     },
     "execution_count": 97,
     "metadata": {},
     "output_type": "execute_result"
    }
   ],
   "source": [
    "my_question.split()"
   ]
  },
  {
   "cell_type": "code",
   "execution_count": 98,
   "id": "3f5ea9b0-42a8-47e7-a04a-faf79c2e51ff",
   "metadata": {},
   "outputs": [],
   "source": [
    "my_data = [(my_story.split(),my_question.split(),'yes')]"
   ]
  },
  {
   "cell_type": "code",
   "execution_count": 99,
   "id": "93c9ba7b-d6c5-4051-9e6e-f62f0a96e2f8",
   "metadata": {},
   "outputs": [],
   "source": [
    "my_story,my_quest,my_ans = vectorize_stories(my_data)"
   ]
  },
  {
   "cell_type": "code",
   "execution_count": 104,
   "id": "335348f8-50fd-4258-8143-0c56910ca2e5",
   "metadata": {},
   "outputs": [
    {
     "name": "stdout",
     "output_type": "stream",
     "text": [
      "1/1 [==============================] - 0s 47ms/step\n"
     ]
    }
   ],
   "source": [
    "pred_results = model.predict(([my_story,my_quest]))"
   ]
  },
  {
   "cell_type": "code",
   "execution_count": 105,
   "id": "a5dc9b3f-bf5c-45a0-b7f4-523dee0a8961",
   "metadata": {},
   "outputs": [],
   "source": [
    "val_max = np.argmax(pred_results[0])"
   ]
  },
  {
   "cell_type": "code",
   "execution_count": 106,
   "id": "60d8c5e5-a1fa-4a30-a056-c0481d9ae8dd",
   "metadata": {},
   "outputs": [],
   "source": [
    "for key,val in tokenizer.word_index.items():\n",
    "    if val == val_max:\n",
    "        k = key"
   ]
  },
  {
   "cell_type": "code",
   "execution_count": 107,
   "id": "522d52e9-da3f-41d1-a84a-7f04c8a2705f",
   "metadata": {},
   "outputs": [
    {
     "data": {
      "text/plain": [
       "'yes'"
      ]
     },
     "execution_count": 107,
     "metadata": {},
     "output_type": "execute_result"
    }
   ],
   "source": [
    "k"
   ]
  },
  {
   "cell_type": "code",
   "execution_count": 108,
   "id": "a3398a6f-488c-4310-adc8-627361f35784",
   "metadata": {},
   "outputs": [
    {
     "data": {
      "text/plain": [
       "0.9933838"
      ]
     },
     "execution_count": 108,
     "metadata": {},
     "output_type": "execute_result"
    }
   ],
   "source": [
    "pred_results[0][val_max]"
   ]
  }
 ],
 "metadata": {
  "kernelspec": {
   "display_name": "Python 3 (ipykernel)",
   "language": "python",
   "name": "python3"
  },
  "language_info": {
   "codemirror_mode": {
    "name": "ipython",
    "version": 3
   },
   "file_extension": ".py",
   "mimetype": "text/x-python",
   "name": "python",
   "nbconvert_exporter": "python",
   "pygments_lexer": "ipython3",
   "version": "3.9.19"
  }
 },
 "nbformat": 4,
 "nbformat_minor": 5
}
